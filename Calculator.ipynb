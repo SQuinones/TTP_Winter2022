{
  "nbformat": 4,
  "nbformat_minor": 0,
  "metadata": {
    "colab": {
      "name": "Calculator.ipynb",
      "provenance": [],
      "collapsed_sections": [],
      "authorship_tag": "ABX9TyPbXuEpxTWVstxDptdmDMy9",
      "include_colab_link": true
    },
    "kernelspec": {
      "name": "python3",
      "display_name": "Python 3"
    },
    "language_info": {
      "name": "python"
    }
  },
  "cells": [
    {
      "cell_type": "markdown",
      "metadata": {
        "id": "view-in-github",
        "colab_type": "text"
      },
      "source": [
        "<a href=\"https://colab.research.google.com/github/SQuinones/TTP_Winter2022/blob/main/Calculator.ipynb\" target=\"_parent\"><img src=\"https://colab.research.google.com/assets/colab-badge.svg\" alt=\"Open In Colab\"/></a>"
      ]
    },
    {
      "cell_type": "markdown",
      "source": [
        "#Simple Calculator in Python "
      ],
      "metadata": {
        "id": "8DWKu5ewsyqB"
      }
    },
    {
      "cell_type": "code",
      "source": [
        "#In this line I am asking the user to choose a math operator\n",
        "calculator = input('''\n",
        "Please type the math operation you want :\n",
        "+ for addition\n",
        "- for subtraction\n",
        "* for multiplication\n",
        "/ for division\n",
        "''')\n",
        "\n",
        "#In this two lines I ams asking the user to enter the numbers\n",
        "number1 = int(input('Enter your first number: '))\n",
        "number2 = int(input('Enter your second number: '))\n",
        "\n",
        "#In this line I am using if statement for the addition\n",
        "if calculator == '+':\n",
        "    print(f'{number1} + {number2} = ')\n",
        "    print(number1 + number2)\n",
        "\n",
        "#In this line I am using if statement for the substraction\n",
        "elif calculator == '-':\n",
        "    print(f'{number1} - {number2} = ')\n",
        "    print(number1 - number2)\n",
        "\n",
        "#In this line I am using if statement for the multiplication\n",
        "elif calculator  == '*':\n",
        "    print(f'{number1} * {number2} = ')\n",
        "    print(number1 * number2)\n",
        "\n",
        "#In this line I am using if statement for the division\n",
        "elif calculator  == '/':\n",
        "    print(f'{number1} / {number2} = '.format(number_1, number_2))\n",
        "    print(number1 / number2)\n",
        "\n",
        "#In this line I am using else statement if the user enter a invalid operator\n",
        "else:\n",
        "    print('You have not typed a valid operator, please run the program again.')\n"
      ],
      "metadata": {
        "colab": {
          "base_uri": "https://localhost:8080/"
        },
        "id": "1f8x8kv9u_U9",
        "outputId": "11140be3-540c-45f9-b028-badce29d771e"
      },
      "execution_count": null,
      "outputs": [
        {
          "output_type": "stream",
          "name": "stdout",
          "text": [
            "\n",
            "Please type the math operation you want :\n",
            "+ for addition\n",
            "- for subtraction\n",
            "* for multiplication\n",
            "/ for division\n",
            "*\n",
            "Enter your first number: 5\n",
            "Enter your second number: 5\n",
            "5 * 5 = \n",
            "25\n"
          ]
        }
      ]
    },
    {
      "cell_type": "code",
      "source": [
        ""
      ],
      "metadata": {
        "id": "tUyeUh_FzL_e"
      },
      "execution_count": null,
      "outputs": []
    }
  ]
}