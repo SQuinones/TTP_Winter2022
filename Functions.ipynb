{
  "nbformat": 4,
  "nbformat_minor": 0,
  "metadata": {
    "colab": {
      "name": "Functions.ipynb",
      "provenance": [],
      "authorship_tag": "ABX9TyMXny/si/zBCmMAEClQxvPc",
      "include_colab_link": true
    },
    "kernelspec": {
      "name": "python3",
      "display_name": "Python 3"
    },
    "language_info": {
      "name": "python"
    }
  },
  "cells": [
    {
      "cell_type": "markdown",
      "metadata": {
        "id": "view-in-github",
        "colab_type": "text"
      },
      "source": [
        "<a href=\"https://colab.research.google.com/github/SQuinones/TTP_Winter2022/blob/main/Functions.ipynb\" target=\"_parent\"><img src=\"https://colab.research.google.com/assets/colab-badge.svg\" alt=\"Open In Colab\"/></a>"
      ]
    },
    {
      "cell_type": "markdown",
      "source": [
        "#Functions"
      ],
      "metadata": {
        "id": "56vPw2IuRCdu"
      }
    },
    {
      "cell_type": "markdown",
      "source": [
        "#So What is a function?\n",
        "Formally, a function is a useful device that groups together a set of statements so they can be run more than once. They can also let us specify parameters that can serve as inputs to the functions.\n",
        "On a more fundamental level, functions allow us to not have to repeatedly write the same code again and again. If you remember back to the lessons on strings and lists, remember that we used a function len() to get the length of a string. Since checking the length of a sequence is a common task you would want to write a function that can do this repeatedly at command.\n",
        "Functions will be one of most basic levels of reusing code in Python, and it will also allow us to start thinking of program design (we will dive much deeper into the ideas of design when we learn about Object Oriented Programming).\n"
      ],
      "metadata": {
        "id": "ywD78KVsRIB0"
      }
    },
    {
      "cell_type": "markdown",
      "source": [
        "#def Statements\n",
        "Let's see how to build out a function's syntax in Python. It has the following form:\n"
      ],
      "metadata": {
        "id": "tYhePOGGSPwW"
      }
    },
    {
      "cell_type": "code",
      "source": [
        "def name_of_function(arg1,arg2):\n",
        "    '''\n",
        "    This is where the function's Document String (doc-string) goes\n",
        "    '''\n",
        "    # Do stuff here\n",
        "    #return desired result"
      ],
      "metadata": {
        "id": "2qN_GcIHRH_-"
      },
      "execution_count": null,
      "outputs": []
    },
    {
      "cell_type": "code",
      "source": [
        "def say_hello():\n",
        "    print('hello')"
      ],
      "metadata": {
        "id": "UHGwIHn4RH8B"
      },
      "execution_count": null,
      "outputs": []
    },
    {
      "cell_type": "code",
      "source": [
        "say_hello()"
      ],
      "metadata": {
        "colab": {
          "base_uri": "https://localhost:8080/"
        },
        "id": "bYVgc3WXRH5s",
        "outputId": "49110684-f8f2-4c3b-9f11-00404bf7d87a"
      },
      "execution_count": null,
      "outputs": [
        {
          "output_type": "stream",
          "name": "stdout",
          "text": [
            "hello\n"
          ]
        }
      ]
    },
    {
      "cell_type": "code",
      "source": [
        "def greetings(name):\n",
        "  '''\n",
        "  Author:\n",
        "  Input: name\n",
        "  Output: hello name\n",
        "\n",
        "  '''\n",
        "\n",
        "  print(f'Hello there {name}')"
      ],
      "metadata": {
        "id": "yn58EF0KRH3k"
      },
      "execution_count": null,
      "outputs": []
    },
    {
      "cell_type": "code",
      "source": [
        "greetings('Joseph')"
      ],
      "metadata": {
        "colab": {
          "base_uri": "https://localhost:8080/"
        },
        "id": "BC6KhvILRHxG",
        "outputId": "189138c5-34be-4061-ee88-ad8a488da62a"
      },
      "execution_count": null,
      "outputs": [
        {
          "output_type": "stream",
          "name": "stdout",
          "text": [
            "Hello there Joseph\n"
          ]
        }
      ]
    },
    {
      "cell_type": "code",
      "source": [
        "def add_num(x, y):\n",
        "  return x + y"
      ],
      "metadata": {
        "id": "klub-ABCanEz"
      },
      "execution_count": null,
      "outputs": []
    },
    {
      "cell_type": "code",
      "source": [
        "add_num(34, 6)"
      ],
      "metadata": {
        "colab": {
          "base_uri": "https://localhost:8080/"
        },
        "id": "8I3lvgH_auUA",
        "outputId": "85f7dc7f-0641-46fe-ff1a-6d19a6e7b6a9"
      },
      "execution_count": null,
      "outputs": [
        {
          "output_type": "execute_result",
          "data": {
            "text/plain": [
              "40"
            ]
          },
          "metadata": {},
          "execution_count": 12
        }
      ]
    },
    {
      "cell_type": "code",
      "source": [
        "#Write a function that check if a number is prime!\n",
        "\n",
        "#1. What do we want?\n",
        "# We want a function that check is  anumber is prime.\n",
        "\n",
        "#2. What do we need?\n",
        "#Well, I need to first define what a prime number is.\n",
        "#Then, designed some type of methodology to pass a number and confirm whether it is prime of not.\n",
        "\n",
        "#3. What do we have?\n",
        "#python, definition of prime numbers\n",
        "\n",
        "#function that checks if the number is prime or not\n",
        "def isPrime(n):\n",
        "  '''\n",
        "  '''\n",
        "  for i in range(2, n):\n",
        "    if n % i == 0:\n",
        "      print(f'The number {n} is not prime')\n",
        "      break\n",
        "  else:\n",
        "    print(f'The number {n} is prime')\n",
        "\n",
        "\n",
        "\n",
        "\n"
      ],
      "metadata": {
        "id": "W6BgFWrxax86"
      },
      "execution_count": null,
      "outputs": []
    },
    {
      "cell_type": "code",
      "source": [
        "isPrime(9)"
      ],
      "metadata": {
        "colab": {
          "base_uri": "https://localhost:8080/"
        },
        "id": "UUAH8Kc8fDwT",
        "outputId": "a2b417d9-0801-4663-a9b3-461540f5c3fc"
      },
      "execution_count": null,
      "outputs": [
        {
          "output_type": "stream",
          "name": "stdout",
          "text": [
            "The number 9 is not prime\n"
          ]
        }
      ]
    },
    {
      "cell_type": "code",
      "source": [
        "# Store data into a variable with \"return\"\n",
        "\n",
        "def greeting(name = \"Mark\"):\n",
        "    return \"Hello \" + name"
      ],
      "metadata": {
        "id": "ka4TJtxyfF6A"
      },
      "execution_count": null,
      "outputs": []
    },
    {
      "cell_type": "code",
      "source": [
        "greeting('Tasha')"
      ],
      "metadata": {
        "colab": {
          "base_uri": "https://localhost:8080/",
          "height": 37
        },
        "id": "qFp9IcJ-fxKF",
        "outputId": "4072298a-a556-4c23-f160-3934d7d3d67e"
      },
      "execution_count": null,
      "outputs": [
        {
          "output_type": "execute_result",
          "data": {
            "application/vnd.google.colaboratory.intrinsic+json": {
              "type": "string"
            },
            "text/plain": [
              "'Hello Tasha'"
            ]
          },
          "metadata": {},
          "execution_count": 28
        }
      ]
    },
    {
      "cell_type": "code",
      "source": [
        "def even_number(l):\n",
        "    \"\"\"\n",
        "    It's a function to print even number's\n",
        "    input: A list with numbers\n",
        "    output: A list with even numbers\n",
        "    \"\"\"\n",
        "    enum = []\n",
        "    for n in l:\n",
        "        if n % 2 == 0:\n",
        "            enum.append(n)\n",
        "    return(enum)"
      ],
      "metadata": {
        "id": "tOjBKOfDf1we"
      },
      "execution_count": null,
      "outputs": []
    },
    {
      "cell_type": "code",
      "source": [
        "#This function has two parameters pick is the temperature and num is the degrees\n",
        "\n",
        "def temp(pick,num):\n",
        "    pick=int(pick)\n",
        "    num=int(num)\n",
        "    # this statement is to convert fahrenheit to celsius and kelvin\n",
        "    if pick==1:\n",
        "      #formula to convert fahrenheit to celsius\n",
        "        celcius=(num-32)*5/9\n",
        "      #formula to convert fahrenheit to kelvin\n",
        "        kelvin=(num-32)*5/9+273.15\n",
        "\n",
        "      #print the convert value\n",
        "        print(\"celcius=\"+str(celcius))\n",
        "        print(\"kelvin=\"+str(kelvin))\n",
        "\n",
        "    # this statement is to convert celsius to fahrenheit and kelvin\n",
        "    if pick==2:\n",
        "        fahrenheit=(num*9/5)+32\n",
        "        kelvin=num+273.15\n",
        "        print(\"fahrenheit=\"+str(fahrenheit))\n",
        "        print(\"kelvin=\"+str(kelvin))\n",
        "\n",
        "    # this statement is to convert kelvin to fahrenheit and celsius  \n",
        "    if pick==3:\n",
        "        fahrenheit=(num-273.15)*9/5+32\n",
        "        celcius=num-273.15\n",
        "        print(\"fahrenheit=\"+str(fahrenheit))\n",
        "        print(\"celcius=\"+str(celcius))\n",
        "\n",
        "\n",
        "\n",
        "#asking the user to enter temperature and degrees \n",
        "print(\"Pick a temperature 1.Fahrenheit 2.celsius 3.kelvin\")\n",
        "pick=input(\"input: \")\n",
        "num=input(\"Enter a the degrees: \")\n",
        "\n",
        "#Calling the function\n",
        "temp(pick,num)"
      ],
      "metadata": {
        "colab": {
          "base_uri": "https://localhost:8080/"
        },
        "id": "Pj9ahvZnlME4",
        "outputId": "8b9b1acf-cda8-4cbd-d410-b2a997c80817"
      },
      "execution_count": null,
      "outputs": [
        {
          "output_type": "stream",
          "name": "stdout",
          "text": [
            "Pick a temperature 1.Fahrenheit 2.celsius 3.kelvin\n",
            "input: 1\n",
            "Enter a the degrees: 32\n",
            "celcius=0.0\n",
            "kelvin=273.15\n"
          ]
        }
      ]
    },
    {
      "cell_type": "markdown",
      "source": [
        ""
      ],
      "metadata": {
        "id": "5tvW4Bf9lL8m"
      }
    }
  ]
}