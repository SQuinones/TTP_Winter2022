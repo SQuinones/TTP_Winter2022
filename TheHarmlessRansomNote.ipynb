{
  "nbformat": 4,
  "nbformat_minor": 0,
  "metadata": {
    "colab": {
      "name": "TheHarmlessRansomNote.ipynb",
      "provenance": [],
      "authorship_tag": "ABX9TyMKkAHeylHwp/Ey/4Q2DSJz",
      "include_colab_link": true
    },
    "kernelspec": {
      "name": "python3",
      "display_name": "Python 3"
    },
    "language_info": {
      "name": "python"
    }
  },
  "cells": [
    {
      "cell_type": "markdown",
      "metadata": {
        "id": "view-in-github",
        "colab_type": "text"
      },
      "source": [
        "<a href=\"https://colab.research.google.com/github/SQuinones/TTP_Winter2022/blob/main/TheHarmlessRansomNote.ipynb\" target=\"_parent\"><img src=\"https://colab.research.google.com/assets/colab-badge.svg\" alt=\"Open In Colab\"/></a>"
      ]
    },
    {
      "cell_type": "code",
      "execution_count": 6,
      "metadata": {
        "id": "n-EBKJogqv7D",
        "colab": {
          "base_uri": "https://localhost:8080/"
        },
        "outputId": "131cd76b-31a3-412a-fa95-bafd91ea0817"
      },
      "outputs": [
        {
          "output_type": "stream",
          "name": "stdout",
          "text": [
            "False\n",
            "False\n",
            "True\n"
          ]
        }
      ],
      "source": [
        "# Given two stings ransomNote and magazine, return true if ransomNote can be constructed from magazine and false otherwise.\n",
        "# Each letter in magazine can only be used once in ransomNote.\n",
        "\n",
        "\n",
        "# In this case we can assume that both strings contain only lowercase letters\n",
        "\n",
        "\n",
        "# ransomNote = string\n",
        "# magazine = string \n",
        "\n",
        "# The function will have two parameter \n",
        "\n",
        "# function(note, magazine)\n",
        "\n",
        "# Now we can consider this examples: \n",
        "\n",
        "\n",
        "# ransom_note(\"a\", \"b\") --> false\n",
        "# ransom_note((\"aa\", \"ab\") --> false\n",
        "# ransom_note((\"aa\", \"aab\") --> true\n",
        "\n",
        "#  Because each letter in magazine can only be used once in ransomNote. \n",
        "#  To find the solution we need to traverse the string ransomNote.\n",
        "#  Check whether each character is in magazine, after checking, we need to delete the characters matched by magazine and \n",
        "#  returns false if there is no match.\n",
        "\n",
        "\n",
        "# Pseudo Code:\n",
        "\n",
        "#In this line I declaring a function with two string parameters \n",
        "def ransom_note(note, magazine):\n",
        "\n",
        "#This line is using a for loop to traverse the string note  \n",
        "    for letter in note:\n",
        "\n",
        "  #for every letter we want to check if that letter is found in magazine\n",
        "      if letter in magazine:\n",
        "  # This line will remove that character and replace with an empty string and doing only one time \n",
        "  #with the purpose of prevent the next repeated match \n",
        "        magazine = magazine.replace (letter, '', 1)\n",
        "\n",
        "      else: \n",
        "        return False\n",
        "   #This line will execute when we get throught all of the letter in our note then it will return True \n",
        "    return True\n",
        "\n",
        "\n",
        "#Test\n",
        "\n",
        "print(ransom_note(\"a\", \"b\")) #--> false\n",
        "print(ransom_note(\"aa\", \"ab\")) #--> false\n",
        "print(ransom_note(\"aa\", \"aab\")) #--> true\n",
        "\n"
      ]
    }
  ]
}