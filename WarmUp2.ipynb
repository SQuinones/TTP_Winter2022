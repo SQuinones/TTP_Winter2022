{
  "nbformat": 4,
  "nbformat_minor": 0,
  "metadata": {
    "colab": {
      "name": "WarmUp2.ipynb",
      "provenance": [],
      "collapsed_sections": [],
      "authorship_tag": "ABX9TyNbA9Xl5WnhkFh2kxiOh//w",
      "include_colab_link": true
    },
    "kernelspec": {
      "name": "python3",
      "display_name": "Python 3"
    },
    "language_info": {
      "name": "python"
    }
  },
  "cells": [
    {
      "cell_type": "markdown",
      "metadata": {
        "id": "view-in-github",
        "colab_type": "text"
      },
      "source": [
        "<a href=\"https://colab.research.google.com/github/SQuinones/TTP_Winter2022/blob/main/WarmUp2.ipynb\" target=\"_parent\"><img src=\"https://colab.research.google.com/assets/colab-badge.svg\" alt=\"Open In Colab\"/></a>"
      ]
    },
    {
      "cell_type": "markdown",
      "source": [
        "#1. Create a list that holds 5 data variables.\n"
      ],
      "metadata": {
        "id": "VLPgob6u8O72"
      }
    },
    {
      "cell_type": "code",
      "source": [
        "# In this list I am storing 5 different data type variables: string, int, float, list and tuple\n",
        "List = ['red', 3, 23.5,['another list',3], tuple((3,2))]\n",
        "List\n"
      ],
      "metadata": {
        "colab": {
          "base_uri": "https://localhost:8080/"
        },
        "id": "IImIRkmU8POV",
        "outputId": "0c9deca0-fdcf-42fe-d7eb-113088535faf"
      },
      "execution_count": null,
      "outputs": [
        {
          "output_type": "execute_result",
          "data": {
            "text/plain": [
              "['red', 3, 23.5, 'a', ['another list', 3], (3, 2)]"
            ]
          },
          "metadata": {},
          "execution_count": 2
        }
      ]
    },
    {
      "cell_type": "markdown",
      "source": [
        "#2. Create a list that holds 10 values."
      ],
      "metadata": {
        "id": "k9EgTgkp8PYN"
      }
    },
    {
      "cell_type": "code",
      "source": [
        "#This list hold 10 values in this case integers\n",
        "ListNumbers = [4,8,10,15,22,40,35,68,32,120]\n",
        "ListNumbers"
      ],
      "metadata": {
        "colab": {
          "base_uri": "https://localhost:8080/"
        },
        "id": "0fcpB73G_Tbc",
        "outputId": "3d551e33-6906-45ea-8dbe-15eedd7f7a16"
      },
      "execution_count": null,
      "outputs": [
        {
          "output_type": "execute_result",
          "data": {
            "text/plain": [
              "[4, 8, 10, 15, 22, 40, 35, 68, 32, 120]"
            ]
          },
          "metadata": {},
          "execution_count": 3
        }
      ]
    },
    {
      "cell_type": "markdown",
      "source": [
        "#3. Create a simple dictionary that stores 2 variables, for example: first and last name.\n"
      ],
      "metadata": {
        "id": "bKf7yFHl_TY2"
      }
    },
    {
      "cell_type": "code",
      "source": [
        "# I am creating a dictionary with 2 strings  for name and lastname \n",
        "my_dict = {'name':'Stephania', 'last_name': 'Hoyos'}\n"
      ],
      "metadata": {
        "id": "tWG90IuG_TQx"
      },
      "execution_count": null,
      "outputs": []
    },
    {
      "cell_type": "markdown",
      "source": [
        "#4. Print out those variables stored in your previous dictionary. \n"
      ],
      "metadata": {
        "id": "nUOgE3kZAXaH"
      }
    },
    {
      "cell_type": "code",
      "source": [
        "#Print the values of my dictionary\n",
        "print(\"variables stored in the dictionary: \",my_dict)\n"
      ],
      "metadata": {
        "colab": {
          "base_uri": "https://localhost:8080/"
        },
        "id": "PYbwlDfmA8J6",
        "outputId": "19247378-14a3-4977-b1be-b908925fbad3"
      },
      "execution_count": null,
      "outputs": [
        {
          "output_type": "stream",
          "name": "stdout",
          "text": [
            "variables stored in the dictionary:  {'name': 'Stephania', 'last_name': 'Hoyos'}\n"
          ]
        }
      ]
    },
    {
      "cell_type": "markdown",
      "source": [
        "#5. Add a message to those variables on printing: for example: “Hello, firstname lastname!”\n"
      ],
      "metadata": {
        "id": "abYPjCK5A8Hy"
      }
    },
    {
      "cell_type": "code",
      "source": [
        "print('Hello my name is: ' + my_dict['name']+ ' '+ my_dict['last_name'])"
      ],
      "metadata": {
        "colab": {
          "base_uri": "https://localhost:8080/"
        },
        "id": "70RjSxV2A8E6",
        "outputId": "ba49fa0b-03de-49be-feb4-743c4a5302ce"
      },
      "execution_count": null,
      "outputs": [
        {
          "output_type": "stream",
          "name": "stdout",
          "text": [
            "Hello my name is: Stephania Hoyos\n"
          ]
        }
      ]
    },
    {
      "cell_type": "markdown",
      "source": [
        "#6. Create a dictionary that holds 2 key: value pairs:\n"
      ],
      "metadata": {
        "id": "Ue1cDxJiB4xd"
      }
    },
    {
      "cell_type": "code",
      "source": [
        "\n",
        "#In this line I am creating a dictionary with a key and pairs values\n",
        "myInfo = { 'myAge': 29, 'MyFavColor': 'Blue'}\n"
      ],
      "metadata": {
        "id": "skO0YokzB4hT"
      },
      "execution_count": null,
      "outputs": []
    },
    {
      "cell_type": "markdown",
      "source": [
        "#7. Look through your dictionary and print each pair,\n"
      ],
      "metadata": {
        "id": "Jia4aWcjDCsS"
      }
    },
    {
      "cell_type": "code",
      "source": [
        "# I am using a fro loop to look through my dictionary and print each element \n",
        "for i in myInfo:\n",
        "  print( i + ' is: '+ str(myInfo[i]))\n"
      ],
      "metadata": {
        "colab": {
          "base_uri": "https://localhost:8080/"
        },
        "id": "tgtCwhh5DCjs",
        "outputId": "429aaf1e-e8b5-43d9-e708-aa11bd015bbf"
      },
      "execution_count": null,
      "outputs": [
        {
          "output_type": "stream",
          "name": "stdout",
          "text": [
            "myAge is: 29\n",
            "MyFavColor is: Blue\n"
          ]
        }
      ]
    },
    {
      "cell_type": "markdown",
      "source": [
        "#8. Create a nested dictionary containing three dictionaries – these dictionaries could be anything (favorite pets, travel locations, etc.)\n"
      ],
      "metadata": {
        "id": "lptUd1jZDCQ8"
      }
    },
    {
      "cell_type": "code",
      "source": [
        "#I am creating a new dictionary with my favorite food info\n",
        "myFaFood = {'breakfast':'oatmel', 'meat': 'fish', 'dessert': 'flan' }\n",
        "#I am creating a nested dictionary that contain three dictionaries\n",
        "myNestedDict = { 'name': my_dict, 'info': myInfo, 'food': myFaFood}"
      ],
      "metadata": {
        "id": "m36df3YzGeac"
      },
      "execution_count": null,
      "outputs": []
    },
    {
      "cell_type": "markdown",
      "source": [
        "#9. Loop through the dictionaries and print a message for each.\n"
      ],
      "metadata": {
        "id": "DHjgLQaMGeVL"
      }
    },
    {
      "cell_type": "code",
      "source": [
        "#For loop to look through my nested dictionary \n",
        "for i in myNestedDict:\n",
        "  p#Print a message for each dictionary \n",
        "  print('from '+ i, myNestedDict[i])\n",
        "\n"
      ],
      "metadata": {
        "colab": {
          "base_uri": "https://localhost:8080/"
        },
        "id": "zmMQIKZwGeNX",
        "outputId": "b3d2b1f0-161a-4f4d-a584-4c1f8fefec5c"
      },
      "execution_count": null,
      "outputs": [
        {
          "output_type": "stream",
          "name": "stdout",
          "text": [
            "from name {'name': 'Stephania', 'last_name': 'Hoyos'}\n",
            "from info {'myAge': 29, 'MyFavColor': 'Blue'}\n",
            "from food {'breakfast': 'oatmel', 'meat': 'fish', 'dessert': 'flan'}\n"
          ]
        }
      ]
    },
    {
      "cell_type": "markdown",
      "source": [
        "# 10. Write a program that takes a group of numbers and checks if the groups are the same or different.\n"
      ],
      "metadata": {
        "id": "hjnrF_zkMUAu"
      }
    },
    {
      "cell_type": "code",
      "source": [
        "#Creating the  groups of numbers \n",
        "tup1 = (1,6,3,4)\n",
        "tup2 = (1,2,3,4)\n",
        "\n",
        "#Condition to check if the groups are the same \n",
        "if(tup1 == tup2):\n",
        "    print('The groups are the same')\n",
        "#Condition to check if the groups are not the same \n",
        "else:\n",
        "    print('The groups are not the same')\n",
        "\n",
        "   "
      ],
      "metadata": {
        "colab": {
          "base_uri": "https://localhost:8080/"
        },
        "id": "Cwdk4Qc8OZVQ",
        "outputId": "9c52b3bb-3697-482a-8849-06b9e80a7423"
      },
      "execution_count": null,
      "outputs": [
        {
          "output_type": "stream",
          "name": "stdout",
          "text": [
            "The groups are not the same\n"
          ]
        }
      ]
    },
    {
      "cell_type": "markdown",
      "source": [
        "#11. Generate a list of five numbers.\n"
      ],
      "metadata": {
        "id": "aMmI-JmAMwge"
      }
    },
    {
      "cell_type": "code",
      "source": [
        "import random\n",
        "#import random library\n",
        "\n",
        "list_x = []\n",
        "#create an empty list\n",
        "\n",
        "for i in range(5):\n",
        "#a loop runs from zero to 5\n",
        "  x = random.randrange(20, 100, 3)\n",
        "  #x is generated in the range is 20 to 100, skipping 3\n",
        "  list_x.append(x)\n",
        "  #send the value of x just generated to the empty list's end\n",
        "\n",
        "list_x\n",
        "#call list\n"
      ],
      "metadata": {
        "colab": {
          "base_uri": "https://localhost:8080/"
        },
        "id": "uqiLdkGOO6rA",
        "outputId": "cd8ff1c6-0c12-418c-b1d3-c39f20d40bed"
      },
      "execution_count": null,
      "outputs": [
        {
          "output_type": "execute_result",
          "data": {
            "text/plain": [
              "[29, 95, 80, 26, 92]"
            ]
          },
          "metadata": {},
          "execution_count": 30
        }
      ]
    },
    {
      "cell_type": "markdown",
      "source": [
        "#12. Write a program to create all possible combos of vowels using each vowel once.\n"
      ],
      "metadata": {
        "id": "UJJBf0qQMwdU"
      }
    },
    {
      "cell_type": "code",
      "source": [
        "import array as arr\n",
        "#vowels: a,e,i,o,u\n",
        "\n",
        "list_v = ['a','e','i','o','u']\n",
        "#create a list that contains all vowels\n",
        "\n",
        "for i in range(5):\n",
        "  #create a loop that runs 5 times for first vowel in the pair\n",
        "  for j in range(5):\n",
        "    #create a loop that runs 5 times for second vowel in the pair\n",
        "    if list_v[i] == list_v[j]:\n",
        "      #if first vowel matches second vowel\n",
        "      print(\"Same Vowels\")\n",
        "      #print out same vowel\n",
        "    elif list_v[i] != list_v[j]:\n",
        "      #else if first vowel not equal to second vowel\n",
        "      print(list_v[i] + list_v[j])\n",
        "      #print out the pair"
      ],
      "metadata": {
        "colab": {
          "base_uri": "https://localhost:8080/"
        },
        "id": "uIOaHvFjPJq6",
        "outputId": "52807725-7e37-4504-d145-37b1780f9eb0"
      },
      "execution_count": null,
      "outputs": [
        {
          "output_type": "stream",
          "name": "stdout",
          "text": [
            "Same Vowels\n",
            "ae\n",
            "ai\n",
            "ao\n",
            "au\n",
            "ea\n",
            "Same Vowels\n",
            "ei\n",
            "eo\n",
            "eu\n",
            "ia\n",
            "ie\n",
            "Same Vowels\n",
            "io\n",
            "iu\n",
            "oa\n",
            "oe\n",
            "oi\n",
            "Same Vowels\n",
            "ou\n",
            "ua\n",
            "ue\n",
            "ui\n",
            "uo\n",
            "Same Vowels\n"
          ]
        }
      ]
    },
    {
      "cell_type": "markdown",
      "source": [
        "#13. Write a program to remove and print every third number from a list until the list is empty.\n"
      ],
      "metadata": {
        "id": "Towl80G6MwaH"
      }
    },
    {
      "cell_type": "code",
      "source": [
        "list_remove = [10,20,30,40,50,60,70,80,90]\n",
        "position = 3 -1\n",
        "\n",
        "#List start with 0 index \n",
        "index = 0\n",
        "#Getting the lenght of the list\n",
        "len_list = (len(list_remove))\n",
        "while  len_list > 0:\n",
        "  index = (position + index)% len_list\n",
        "  print(list_remove.pop(index))\n",
        "  len_list -= 1"
      ],
      "metadata": {
        "colab": {
          "base_uri": "https://localhost:8080/"
        },
        "id": "BKrbENgWViy2",
        "outputId": "f7aaf9c3-2481-4431-f059-e42a2c868ada"
      },
      "execution_count": null,
      "outputs": [
        {
          "output_type": "stream",
          "name": "stdout",
          "text": [
            "30\n",
            "60\n",
            "90\n",
            "40\n",
            "80\n",
            "50\n",
            "20\n",
            "70\n",
            "10\n"
          ]
        }
      ]
    },
    {
      "cell_type": "markdown",
      "source": [
        "#14. Write a program to print a list of 10 random numbers.\n"
      ],
      "metadata": {
        "id": "twM24uGQMwW5"
      }
    },
    {
      "cell_type": "code",
      "source": [
        "import random\n",
        "\n",
        "list_z = [1,2,3,4,5,6,7,8,9,10,11,12,13,14,15,16,17,18,19,20]\n",
        "#create a list with 20 items\n",
        "\n",
        "for i in range(10):\n",
        "  print(random.choice(list_z))"
      ],
      "metadata": {
        "colab": {
          "base_uri": "https://localhost:8080/"
        },
        "id": "8wOsURy9PMBQ",
        "outputId": "d6e58ab7-4b2f-4ce3-b294-c1ee43fef13b"
      },
      "execution_count": null,
      "outputs": [
        {
          "output_type": "stream",
          "name": "stdout",
          "text": [
            "12\n",
            "19\n",
            "17\n",
            "18\n",
            "14\n",
            "13\n",
            "6\n",
            "17\n",
            "9\n",
            "16\n"
          ]
        }
      ]
    },
    {
      "cell_type": "markdown",
      "source": [
        "#15. Write a program to sum up three numbers from a list."
      ],
      "metadata": {
        "id": "f1b0tA30OPrE"
      }
    },
    {
      "cell_type": "code",
      "source": [
        "list_o = [1,2,3]\n",
        "#three items in a list\n",
        "sum = 0\n",
        "#initialise sum = 0\n",
        "\n",
        "for i in range(3):\n",
        "  #loop that goes 3 times\n",
        "  sum += list_o[i]\n",
        "  #add the item to sum\n",
        "\n",
        "print(sum)\n",
        "#print sum\n",
        "\n"
      ],
      "metadata": {
        "colab": {
          "base_uri": "https://localhost:8080/"
        },
        "id": "TxG-OXFUOPny",
        "outputId": "1aae5e0e-4862-4097-86ad-957c8b0267c6"
      },
      "execution_count": null,
      "outputs": [
        {
          "output_type": "stream",
          "name": "stdout",
          "text": [
            "6\n"
          ]
        }
      ]
    },
    {
      "cell_type": "code",
      "source": [
        ""
      ],
      "metadata": {
        "id": "1WK4f4frOPkt"
      },
      "execution_count": null,
      "outputs": []
    },
    {
      "cell_type": "code",
      "source": [
        ""
      ],
      "metadata": {
        "id": "W2V4CqOsOPhu"
      },
      "execution_count": null,
      "outputs": []
    }
  ]
}