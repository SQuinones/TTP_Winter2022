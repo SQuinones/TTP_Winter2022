{
  "nbformat": 4,
  "nbformat_minor": 0,
  "metadata": {
    "colab": {
      "name": "Warm up- Activity.ipynb",
      "provenance": [],
      "collapsed_sections": [],
      "authorship_tag": "ABX9TyNy4jWZVOHG3GKLNpbSfxvU",
      "include_colab_link": true
    },
    "kernelspec": {
      "name": "python3",
      "display_name": "Python 3"
    },
    "language_info": {
      "name": "python"
    }
  },
  "cells": [
    {
      "cell_type": "markdown",
      "metadata": {
        "id": "view-in-github",
        "colab_type": "text"
      },
      "source": [
        "<a href=\"https://colab.research.google.com/github/SQuinones/TTP_Winter2022/blob/main/Warm_up_Activity.ipynb\" target=\"_parent\"><img src=\"https://colab.research.google.com/assets/colab-badge.svg\" alt=\"Open In Colab\"/></a>"
      ]
    },
    {
      "cell_type": "markdown",
      "source": [
        "#1. Select a set of characters from \"Hello World\" to print"
      ],
      "metadata": {
        "id": "iAJ417ZdfwQW"
      }
    },
    {
      "cell_type": "code",
      "source": [
        "str = \"Hello World\"\n",
        "print(str[1:5])"
      ],
      "metadata": {
        "colab": {
          "base_uri": "https://localhost:8080/"
        },
        "id": "TalaT08qf-P4",
        "outputId": "fc997080-8bd3-4e69-dc4b-44667aa6a919"
      },
      "execution_count": null,
      "outputs": [
        {
          "output_type": "stream",
          "name": "stdout",
          "text": [
            "ello\n"
          ]
        }
      ]
    },
    {
      "cell_type": "markdown",
      "source": [
        "#2. Print \"Hello World\" in reverse."
      ],
      "metadata": {
        "id": "sgDdjC2lgDCf"
      }
    },
    {
      "cell_type": "code",
      "source": [
        " str = \"Hello World\"[:: -1]\n",
        " print(str)"
      ],
      "metadata": {
        "colab": {
          "base_uri": "https://localhost:8080/"
        },
        "id": "4joFRkbhgI9O",
        "outputId": "959cd782-c3ca-4259-8948-13ce69240d9e"
      },
      "execution_count": null,
      "outputs": [
        {
          "output_type": "stream",
          "name": "stdout",
          "text": [
            "dlroW olleH\n"
          ]
        }
      ]
    },
    {
      "cell_type": "markdown",
      "source": [
        "#3. Print user input in reverse"
      ],
      "metadata": {
        "id": "qiwr7zWqgI7J"
      }
    },
    {
      "cell_type": "code",
      "source": [
        "food = input(\"What is your favorite food: \")\n",
        "print(food[:: -1])"
      ],
      "metadata": {
        "colab": {
          "base_uri": "https://localhost:8080/"
        },
        "id": "XvYxat55gI4z",
        "outputId": "84a879ff-2f12-4b01-b4dc-a8984b14252d"
      },
      "execution_count": null,
      "outputs": [
        {
          "output_type": "stream",
          "name": "stdout",
          "text": [
            "What is your favorite food: tacos\n",
            "socat\n"
          ]
        }
      ]
    },
    {
      "cell_type": "markdown",
      "source": [
        "#4. Print user input in a sentence"
      ],
      "metadata": {
        "id": "KGJirJzrgIyU"
      }
    },
    {
      "cell_type": "code",
      "source": [
        "name = input(\"What is your name:\")\n",
        "age = input(\"How old are you: \")\n",
        "city = input(\"Where do you live: \")\n",
        "color = input(\"What is your favority color: \")\n",
        "print(f\"Hello {name}, you are {age} old, live in {city} and your favority color is {color}\")"
      ],
      "metadata": {
        "colab": {
          "base_uri": "https://localhost:8080/"
        },
        "id": "_vWxWjlKgdL9",
        "outputId": "36cb0ba5-bb19-438b-b73f-10f5f9455beb"
      },
      "execution_count": null,
      "outputs": [
        {
          "output_type": "stream",
          "name": "stdout",
          "text": [
            "What is your name:lila\n",
            "How old are you: 29\n",
            "Where do you live: New York\n",
            "What is your favority color: Red\n",
            "Hello lila, you are 29 old, live in New York and your favority color is Red\n"
          ]
        }
      ]
    },
    {
      "cell_type": "markdown",
      "source": [
        "#5. Print seven types of objects"
      ],
      "metadata": {
        "id": "2Pwsv-GFgdJm"
      }
    },
    {
      "cell_type": "code",
      "source": [
        "x = 10\n",
        "color = \"Yellow\"\n",
        "ListNumber = [1, 2, 3, 4]\n",
        "print(type(x))\n",
        "print(type(color))\n",
        "print(type(ListNumber))"
      ],
      "metadata": {
        "colab": {
          "base_uri": "https://localhost:8080/"
        },
        "id": "umIG2-AIgdHP",
        "outputId": "fa0519cf-7b44-47de-a200-58d4ff21fd47"
      },
      "execution_count": null,
      "outputs": [
        {
          "output_type": "stream",
          "name": "stdout",
          "text": [
            "<class 'int'>\n",
            "<class 'str'>\n",
            "<class 'list'>\n"
          ]
        }
      ]
    },
    {
      "cell_type": "markdown",
      "source": [
        "#6. Add two numbers together"
      ],
      "metadata": {
        "id": "-yhyhEfMgdE5"
      }
    },
    {
      "cell_type": "code",
      "source": [
        "print(9 + 5)"
      ],
      "metadata": {
        "colab": {
          "base_uri": "https://localhost:8080/"
        },
        "id": "dos8LifvgdCi",
        "outputId": "3e7e53c8-8145-443e-ac0f-7de81ae945dc"
      },
      "execution_count": null,
      "outputs": [
        {
          "output_type": "stream",
          "name": "stdout",
          "text": [
            "14\n"
          ]
        }
      ]
    },
    {
      "cell_type": "markdown",
      "source": [
        "#7. Find the square root of 5 numbers"
      ],
      "metadata": {
        "id": "NKlJpjdCg5cV"
      }
    },
    {
      "cell_type": "code",
      "source": [
        "n1 = 15\n",
        "n2 = 20\n",
        "n3 = 12\n",
        "n4 = 23\n",
        "n5 = 40\n",
        "\n",
        "sqr1 = n1**2\n",
        "sqr2 = n2**2\n",
        "sqr3 = n3**2\n",
        "sqr4 = n4**2\n",
        "sqr5 = n5**2\n",
        "\n",
        "print(sqr1)\n",
        "print(sqr2)\n",
        "print(sqr3)\n",
        "print(sqr4)\n",
        "print(sqr5)"
      ],
      "metadata": {
        "colab": {
          "base_uri": "https://localhost:8080/"
        },
        "id": "D3h9QVqrg6WY",
        "outputId": "7b8531f4-ff57-4dc8-9843-ba894a137b99"
      },
      "execution_count": null,
      "outputs": [
        {
          "output_type": "stream",
          "name": "stdout",
          "text": [
            "225\n",
            "400\n",
            "144\n",
            "529\n",
            "1600\n"
          ]
        }
      ]
    },
    {
      "cell_type": "markdown",
      "source": [
        "#8. Find the whole number of 5 division problems"
      ],
      "metadata": {
        "id": "d_t7Lirjg6Se"
      }
    },
    {
      "cell_type": "code",
      "source": [
        "print(5//8)\n",
        "print(10//2)\n",
        "print(20//3)\n",
        "print(30//7)\n",
        "print(50//3)"
      ],
      "metadata": {
        "colab": {
          "base_uri": "https://localhost:8080/"
        },
        "id": "giQMUv3Mg6PV",
        "outputId": "6d3b895f-f951-4766-aa77-db5dc8604351"
      },
      "execution_count": null,
      "outputs": [
        {
          "output_type": "stream",
          "name": "stdout",
          "text": [
            "0\n",
            "5\n",
            "6\n",
            "4\n",
            "16\n"
          ]
        }
      ]
    },
    {
      "cell_type": "markdown",
      "source": [
        "#9. Create two lists and combine them"
      ],
      "metadata": {
        "id": "KFbD0cI-ifQF"
      }
    },
    {
      "cell_type": "code",
      "source": [
        "ListColors = [\"Red, Yellow, Green\"]\n",
        "ListAnimals = [\"Bird, Sun, Grass\"]\n",
        "print(ListColors + ListAnimals)"
      ],
      "metadata": {
        "colab": {
          "base_uri": "https://localhost:8080/"
        },
        "id": "u2hlokjRil6e",
        "outputId": "256df005-99e4-4a03-daec-6c125bf0a390"
      },
      "execution_count": null,
      "outputs": [
        {
          "output_type": "stream",
          "name": "stdout",
          "text": [
            "['Red, Yellow, Green', 'Bird, Sun, Grass']\n"
          ]
        }
      ]
    },
    {
      "cell_type": "markdown",
      "source": [
        "#10. Create two tuples not arrays and combine them"
      ],
      "metadata": {
        "id": "YbrmMQfbi7ws"
      }
    },
    {
      "cell_type": "code",
      "source": [
        "list1 = (0, 1, 2, 3, 4)\n",
        "list2 = (5, 6, 7, 8, 9)\n",
        "print(list1, list2)\n",
        "print(list1 + list2)"
      ],
      "metadata": {
        "colab": {
          "base_uri": "https://localhost:8080/"
        },
        "id": "0OBcSZR7jBEg",
        "outputId": "ae854d4a-f302-4623-867e-7074acaf761b"
      },
      "execution_count": null,
      "outputs": [
        {
          "output_type": "stream",
          "name": "stdout",
          "text": [
            "(0, 1, 2, 3, 4) (5, 6, 7, 8, 9)\n",
            "(0, 1, 2, 3, 4, 5, 6, 7, 8, 9)\n"
          ]
        }
      ]
    },
    {
      "cell_type": "markdown",
      "source": [
        "#11. Convert 5 objects"
      ],
      "metadata": {
        "id": "8wt0HGS4jBCc"
      }
    },
    {
      "cell_type": "code",
      "source": [
        "b = 123\n",
        "c = 2j\n",
        "d = 1.0\n",
        "e = 5\n",
        "f = 5.8\n",
        "\n",
        "a1 = float(b)\n",
        "a2 = int(d)\n",
        "a3 = int(b)\n",
        "a4 = int(f)\n",
        "a5 = float(e)\n",
        "\n",
        "print(a1)\n",
        "print(a2)\n",
        "print(a3)\n",
        "print(a4)\n",
        "print(a5)\n"
      ],
      "metadata": {
        "colab": {
          "base_uri": "https://localhost:8080/"
        },
        "id": "QaKfofYvjBAV",
        "outputId": "d8146597-a774-44d4-f274-cb524807d4fe"
      },
      "execution_count": null,
      "outputs": [
        {
          "output_type": "stream",
          "name": "stdout",
          "text": [
            "123.0\n",
            "1\n",
            "123\n",
            "5\n",
            "5.0\n"
          ]
        }
      ]
    },
    {
      "cell_type": "markdown",
      "source": [
        "#Convert a lowercase string to an UPPERCASE STRING"
      ],
      "metadata": {
        "id": "28f-sYyljA9d"
      }
    },
    {
      "cell_type": "code",
      "source": [
        "message = \" hello world\"\n",
        "print(message.upper())"
      ],
      "metadata": {
        "colab": {
          "base_uri": "https://localhost:8080/"
        },
        "id": "LwVGJpNKjA3v",
        "outputId": "31c61c2d-9a29-4cc0-9e17-f533ec859c8b"
      },
      "execution_count": null,
      "outputs": [
        {
          "output_type": "stream",
          "name": "stdout",
          "text": [
            " HELLO WORLD\n"
          ]
        }
      ]
    },
    {
      "cell_type": "markdown",
      "source": [
        "#13. Print out the string \"Python\" one letter at a time"
      ],
      "metadata": {
        "id": "0pVipqOvkg_n"
      }
    },
    {
      "cell_type": "code",
      "source": [
        "string = \"Python\"\n",
        "for letter in string:\n",
        "    print(letter)"
      ],
      "metadata": {
        "colab": {
          "base_uri": "https://localhost:8080/"
        },
        "id": "iSMfEaVAkg84",
        "outputId": "04319500-8bdc-4043-f9c6-f8ce10848650"
      },
      "execution_count": null,
      "outputs": [
        {
          "output_type": "stream",
          "name": "stdout",
          "text": [
            "P\n",
            "y\n",
            "t\n",
            "h\n",
            "o\n",
            "n\n"
          ]
        }
      ]
    },
    {
      "cell_type": "markdown",
      "source": [
        "#14. Print an object from a list of objects"
      ],
      "metadata": {
        "id": "r8Xox8cQkg6H"
      }
    },
    {
      "cell_type": "code",
      "source": [
        "print(string[3])"
      ],
      "metadata": {
        "colab": {
          "base_uri": "https://localhost:8080/"
        },
        "id": "NrDEYeHLkg1K",
        "outputId": "dd6db1b3-192e-40ad-8980-ebef9441dc5f"
      },
      "execution_count": null,
      "outputs": [
        {
          "output_type": "stream",
          "name": "stdout",
          "text": [
            "h\n"
          ]
        }
      ]
    },
    {
      "cell_type": "markdown",
      "source": [
        "#15. BONUS!!! Get the version of Python being used"
      ],
      "metadata": {
        "id": "MquzxLWlkygT"
      }
    },
    {
      "cell_type": "code",
      "source": [
        "import sys\n",
        "print(\"Python version\")\n",
        "print(sys.version)\n",
        "print(\"Version info.\")\n",
        "print(sys.version_info)\n"
      ],
      "metadata": {
        "colab": {
          "base_uri": "https://localhost:8080/"
        },
        "id": "oA4gv4Kfk2B1",
        "outputId": "056476a5-0a00-461b-b71c-ab7925dd45ed"
      },
      "execution_count": null,
      "outputs": [
        {
          "output_type": "stream",
          "name": "stdout",
          "text": [
            "Python version\n",
            "3.7.12 (default, Sep 10 2021, 00:21:48) \n",
            "[GCC 7.5.0]\n",
            "Version info.\n",
            "sys.version_info(major=3, minor=7, micro=12, releaselevel='final', serial=0)\n"
          ]
        }
      ]
    },
    {
      "cell_type": "code",
      "source": [
        ""
      ],
      "metadata": {
        "id": "PHzNIcyqk5Ba"
      },
      "execution_count": null,
      "outputs": []
    }
  ]
}