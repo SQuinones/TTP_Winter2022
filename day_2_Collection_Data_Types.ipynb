{
  "nbformat": 4,
  "nbformat_minor": 0,
  "metadata": {
    "colab": {
      "name": "day 2 Collection Data Types.ipynb",
      "provenance": [],
      "collapsed_sections": [],
      "authorship_tag": "ABX9TyMklzEM4egCHftS5zmPijGi",
      "include_colab_link": true
    },
    "kernelspec": {
      "name": "python3",
      "display_name": "Python 3"
    },
    "language_info": {
      "name": "python"
    }
  },
  "cells": [
    {
      "cell_type": "markdown",
      "metadata": {
        "id": "view-in-github",
        "colab_type": "text"
      },
      "source": [
        "<a href=\"https://colab.research.google.com/github/SQuinones/TTP_Winter2022/blob/main/day_2_Collection_Data_Types.ipynb\" target=\"_parent\"><img src=\"https://colab.research.google.com/assets/colab-badge.svg\" alt=\"Open In Colab\"/></a>"
      ]
    },
    {
      "cell_type": "markdown",
      "source": [
        "#Collection Data Types\n",
        "\n",
        "List, Dictionaries & Tuples\n",
        "\n",
        "#Lists\n",
        "\n",
        "List can be thought of the most general version of sequence in Python. Unlike stringd, they are mutable, meaning the elements inside a list can be changed!\n"
      ],
      "metadata": {
        "id": "b43USjQB00sp"
      }
    },
    {
      "cell_type": "code",
      "source": [
        "#Assing a list to an variable named my_list\n",
        "my_list = [1,2,3]\n"
      ],
      "metadata": {
        "id": "kcBLi30617j9"
      },
      "execution_count": null,
      "outputs": []
    },
    {
      "cell_type": "code",
      "source": [
        "my_list\n"
      ],
      "metadata": {
        "colab": {
          "base_uri": "https://localhost:8080/"
        },
        "id": "GUuc8_k339kF",
        "outputId": "55eb9743-9ff6-476a-f861-3cffc2e2f326"
      },
      "execution_count": null,
      "outputs": [
        {
          "output_type": "execute_result",
          "data": {
            "text/plain": [
              "[1, 2, 3]"
            ]
          },
          "metadata": {},
          "execution_count": 5
        }
      ]
    },
    {
      "cell_type": "code",
      "source": [
        "my_list = ['A string',23,100.232,'o']"
      ],
      "metadata": {
        "id": "rCl2Vi-_4A44"
      },
      "execution_count": null,
      "outputs": []
    },
    {
      "cell_type": "code",
      "source": [
        "my_list"
      ],
      "metadata": {
        "colab": {
          "base_uri": "https://localhost:8080/"
        },
        "id": "AURyLDmD4OnA",
        "outputId": "56f08d95-cc69-4a50-ce44-11a644ced0a4"
      },
      "execution_count": null,
      "outputs": [
        {
          "output_type": "execute_result",
          "data": {
            "text/plain": [
              "['A string', 23, 100.232, 'o']"
            ]
          },
          "metadata": {},
          "execution_count": 12
        }
      ]
    },
    {
      "cell_type": "code",
      "source": [
        "len(my_list)"
      ],
      "metadata": {
        "colab": {
          "base_uri": "https://localhost:8080/"
        },
        "id": "h3qEdN3J4idQ",
        "outputId": "6dc4c856-ab49-4668-da47-3a42ea9765ae"
      },
      "execution_count": null,
      "outputs": [
        {
          "output_type": "execute_result",
          "data": {
            "text/plain": [
              "4"
            ]
          },
          "metadata": {},
          "execution_count": 13
        }
      ]
    },
    {
      "cell_type": "markdown",
      "source": [
        "#Indexing and Slicing\n",
        "\n",
        "Indexing and slicing works just like in strings\n"
      ],
      "metadata": {
        "id": "8XQHr_j117Xe"
      }
    },
    {
      "cell_type": "code",
      "source": [
        "#We can also use + to concatenate lists, just like we did for strings \n",
        "my_list = ['one','two','three',4,5]"
      ],
      "metadata": {
        "id": "uOIxOR9G164f"
      },
      "execution_count": null,
      "outputs": []
    },
    {
      "cell_type": "code",
      "source": [
        "#Grab elemnt at index 0\n",
        "my_list[0]"
      ],
      "metadata": {
        "colab": {
          "base_uri": "https://localhost:8080/",
          "height": 37
        },
        "id": "o4A33sRW5VFd",
        "outputId": "784addb2-7a3a-47fe-dac7-96071313c43c"
      },
      "execution_count": null,
      "outputs": [
        {
          "output_type": "execute_result",
          "data": {
            "application/vnd.google.colaboratory.intrinsic+json": {
              "type": "string"
            },
            "text/plain": [
              "'one'"
            ]
          },
          "metadata": {},
          "execution_count": 15
        }
      ]
    },
    {
      "cell_type": "code",
      "source": [
        "#Grab index 1 and everything past it\n",
        "my_list[1:]"
      ],
      "metadata": {
        "colab": {
          "base_uri": "https://localhost:8080/"
        },
        "id": "4uNFxOgU5U6v",
        "outputId": "ecb43053-b630-423c-cfdc-3dbbe9ab12c6"
      },
      "execution_count": null,
      "outputs": [
        {
          "output_type": "execute_result",
          "data": {
            "text/plain": [
              "['two', 'three', 4, 5]"
            ]
          },
          "metadata": {},
          "execution_count": 16
        }
      ]
    },
    {
      "cell_type": "code",
      "source": [
        "#Grab everything UP TO index 3\n",
        "my_list[:3]"
      ],
      "metadata": {
        "colab": {
          "base_uri": "https://localhost:8080/"
        },
        "id": "QwscBgvd21Tn",
        "outputId": "fd9574be-9f5a-44c5-d72d-49cb6d3af587"
      },
      "execution_count": null,
      "outputs": [
        {
          "output_type": "execute_result",
          "data": {
            "text/plain": [
              "['one', 'two', 'three']"
            ]
          },
          "metadata": {},
          "execution_count": 17
        }
      ]
    },
    {
      "cell_type": "code",
      "source": [
        "my_list"
      ],
      "metadata": {
        "colab": {
          "base_uri": "https://localhost:8080/"
        },
        "id": "05MOxwi05vny",
        "outputId": "84e6c14b-aede-420b-d084-15380bc79ef6"
      },
      "execution_count": null,
      "outputs": [
        {
          "output_type": "execute_result",
          "data": {
            "text/plain": [
              "['one', 'two', 'three', 4, 5]"
            ]
          },
          "metadata": {},
          "execution_count": 18
        }
      ]
    },
    {
      "cell_type": "code",
      "source": [
        "#We can also use + to concatenate lists, just like we did for strings\n",
        "my_list + ['new item ']"
      ],
      "metadata": {
        "colab": {
          "base_uri": "https://localhost:8080/"
        },
        "id": "9CqA8pTh5yc1",
        "outputId": "be9d88d9-3926-4ec0-c7c8-4386536de5a5"
      },
      "execution_count": null,
      "outputs": [
        {
          "output_type": "execute_result",
          "data": {
            "text/plain": [
              "['one', 'two', 'three', 4, 5, 'new item ']"
            ]
          },
          "metadata": {},
          "execution_count": 19
        }
      ]
    },
    {
      "cell_type": "code",
      "source": [
        "# Note: This doesn't actaully change the original list!\n",
        "my_list"
      ],
      "metadata": {
        "colab": {
          "base_uri": "https://localhost:8080/"
        },
        "id": "GSGOIId459nl",
        "outputId": "2aa9a5e6-9bac-4128-fe4b-753114614197"
      },
      "execution_count": null,
      "outputs": [
        {
          "output_type": "execute_result",
          "data": {
            "text/plain": [
              "['one', 'two', 'three', 4, 5]"
            ]
          },
          "metadata": {},
          "execution_count": 20
        }
      ]
    },
    {
      "cell_type": "code",
      "source": [
        "#We would have to reassign the list to make the change permanent\n",
        "my_list = my_list + ['add new item permanetly']"
      ],
      "metadata": {
        "id": "LYcAbWNE6HjY"
      },
      "execution_count": null,
      "outputs": []
    },
    {
      "cell_type": "code",
      "source": [
        "my_list"
      ],
      "metadata": {
        "colab": {
          "base_uri": "https://localhost:8080/"
        },
        "id": "-24qlDEG6Uti",
        "outputId": "40c6f12a-566f-4935-bdc1-e53dd6b8f3d3"
      },
      "execution_count": null,
      "outputs": [
        {
          "output_type": "execute_result",
          "data": {
            "text/plain": [
              "['one', 'two', 'three', 4, 5, 'add new item permanetly']"
            ]
          },
          "metadata": {},
          "execution_count": 22
        }
      ]
    },
    {
      "cell_type": "code",
      "source": [
        "my_list.append('something')\n"
      ],
      "metadata": {
        "id": "90mO8pUB6WxL"
      },
      "execution_count": null,
      "outputs": []
    },
    {
      "cell_type": "code",
      "source": [
        "my_list"
      ],
      "metadata": {
        "colab": {
          "base_uri": "https://localhost:8080/"
        },
        "id": "XS-Xz3qO6ejs",
        "outputId": "ff44819c-1fed-446c-c4e3-beb0d1aae752"
      },
      "execution_count": null,
      "outputs": [
        {
          "output_type": "execute_result",
          "data": {
            "text/plain": [
              "['one', 'two', 'three', 4, 5, 'add new item permanetly', 'something']"
            ]
          },
          "metadata": {},
          "execution_count": 24
        }
      ]
    },
    {
      "cell_type": "code",
      "source": [
        "#Make the list double\n",
        "my_list * 2"
      ],
      "metadata": {
        "colab": {
          "base_uri": "https://localhost:8080/"
        },
        "id": "5rkOaXWg6flb",
        "outputId": "a9136c7d-ee5a-474a-9399-513e5868cad5"
      },
      "execution_count": null,
      "outputs": [
        {
          "output_type": "execute_result",
          "data": {
            "text/plain": [
              "['one',\n",
              " 'two',\n",
              " 'three',\n",
              " 4,\n",
              " 5,\n",
              " 'add new item permanetly',\n",
              " 'something',\n",
              " 'one',\n",
              " 'two',\n",
              " 'three',\n",
              " 4,\n",
              " 5,\n",
              " 'add new item permanetly',\n",
              " 'something']"
            ]
          },
          "metadata": {},
          "execution_count": 32
        }
      ]
    },
    {
      "cell_type": "code",
      "source": [
        "my_list"
      ],
      "metadata": {
        "colab": {
          "base_uri": "https://localhost:8080/"
        },
        "id": "YSzRkBF56ow2",
        "outputId": "d5f13bcf-abea-4aea-e7af-058340862bfd"
      },
      "execution_count": null,
      "outputs": [
        {
          "output_type": "execute_result",
          "data": {
            "text/plain": [
              "['one', 'two', 'three', 4, 5, 'add new item permanetly', 'something']"
            ]
          },
          "metadata": {},
          "execution_count": 33
        }
      ]
    },
    {
      "cell_type": "code",
      "source": [
        "num = [1,2,3,4,5,6]\n",
        "num"
      ],
      "metadata": {
        "colab": {
          "base_uri": "https://localhost:8080/"
        },
        "id": "zJ0GE-Ob8v3x",
        "outputId": "a58c3281-5b92-4a25-86f0-6d8d9a2d0f2f"
      },
      "execution_count": null,
      "outputs": [
        {
          "output_type": "execute_result",
          "data": {
            "text/plain": [
              "[1, 2, 3, 4, 5, 6]"
            ]
          },
          "metadata": {},
          "execution_count": 34
        }
      ]
    },
    {
      "cell_type": "code",
      "source": [
        "num[-1] = 9 \n",
        "num"
      ],
      "metadata": {
        "colab": {
          "base_uri": "https://localhost:8080/"
        },
        "id": "Wdx-KWsx8vkM",
        "outputId": "05732d86-6df2-4fdd-c13d-fc2c39910fdf"
      },
      "execution_count": null,
      "outputs": [
        {
          "output_type": "execute_result",
          "data": {
            "text/plain": [
              "[1, 2, 3, 4, 5, 9]"
            ]
          },
          "metadata": {},
          "execution_count": 35
        }
      ]
    },
    {
      "cell_type": "markdown",
      "source": [
        "#Basic List Methods"
      ],
      "metadata": {
        "id": "32cAKVBc86Dz"
      }
    },
    {
      "cell_type": "code",
      "source": [
        "#Create a new list\n",
        "l = [1,2,3,]"
      ],
      "metadata": {
        "id": "jBNJN-QQ855Z"
      },
      "execution_count": null,
      "outputs": []
    },
    {
      "cell_type": "code",
      "source": [
        "#Append\n",
        "l.append('append me!')"
      ],
      "metadata": {
        "id": "EKcXy5gU85ve"
      },
      "execution_count": null,
      "outputs": []
    },
    {
      "cell_type": "code",
      "source": [
        "l.pop(0)"
      ],
      "metadata": {
        "colab": {
          "base_uri": "https://localhost:8080/"
        },
        "id": "1bmJkF1x9I-l",
        "outputId": "05f1ad7b-e325-44ab-dcf9-6892629297c0"
      },
      "execution_count": null,
      "outputs": [
        {
          "output_type": "execute_result",
          "data": {
            "text/plain": [
              "1"
            ]
          },
          "metadata": {},
          "execution_count": 38
        }
      ]
    },
    {
      "cell_type": "code",
      "source": [
        "l"
      ],
      "metadata": {
        "colab": {
          "base_uri": "https://localhost:8080/"
        },
        "id": "GyN-49TE9I0l",
        "outputId": "2ed2da4d-bac1-474c-f46c-31ceb71ebb58"
      },
      "execution_count": null,
      "outputs": [
        {
          "output_type": "execute_result",
          "data": {
            "text/plain": [
              "[2, 3, 'append me!']"
            ]
          },
          "metadata": {},
          "execution_count": 39
        }
      ]
    },
    {
      "cell_type": "code",
      "source": [
        "mlist = ['string']"
      ],
      "metadata": {
        "id": "WbLHfZpa9Ioo"
      },
      "execution_count": null,
      "outputs": []
    },
    {
      "cell_type": "code",
      "source": [
        "len(mlist)"
      ],
      "metadata": {
        "colab": {
          "base_uri": "https://localhost:8080/"
        },
        "id": "yllvlNVU9S9U",
        "outputId": "039b0d80-eadd-46a5-af3d-b42d84be5500"
      },
      "execution_count": null,
      "outputs": [
        {
          "output_type": "execute_result",
          "data": {
            "text/plain": [
              "1"
            ]
          },
          "metadata": {},
          "execution_count": 41
        }
      ]
    },
    {
      "cell_type": "code",
      "source": [
        "#Use pop to \"pop off\" an item from the list. By default pop takes off the last index,\n",
        "#but you can also specify which index to pop off.\n",
        "l.pop()"
      ],
      "metadata": {
        "colab": {
          "base_uri": "https://localhost:8080/",
          "height": 37
        },
        "id": "kHwESrvk9SxN",
        "outputId": "786656d2-c1e5-4cbb-c16c-bc919837649d"
      },
      "execution_count": null,
      "outputs": [
        {
          "output_type": "execute_result",
          "data": {
            "application/vnd.google.colaboratory.intrinsic+json": {
              "type": "string"
            },
            "text/plain": [
              "'append me!'"
            ]
          },
          "metadata": {},
          "execution_count": 42
        }
      ]
    },
    {
      "cell_type": "code",
      "source": [
        ""
      ],
      "metadata": {
        "id": "81KNrHxu9Smo"
      },
      "execution_count": null,
      "outputs": []
    },
    {
      "cell_type": "markdown",
      "source": [
        "#The sort and reverse methods"
      ],
      "metadata": {
        "id": "PLDOIXbH6om_"
      }
    },
    {
      "cell_type": "code",
      "source": [
        "new_list = ['a','e','x','b','c']\n",
        "new_list"
      ],
      "metadata": {
        "colab": {
          "base_uri": "https://localhost:8080/"
        },
        "id": "H7H6dAOL6ud4",
        "outputId": "bb06a098-d68c-4034-f701-4bbbef089339"
      },
      "execution_count": null,
      "outputs": [
        {
          "output_type": "execute_result",
          "data": {
            "text/plain": [
              "['a', 'e', 'x', 'b', 'c']"
            ]
          },
          "metadata": {},
          "execution_count": 26
        }
      ]
    },
    {
      "cell_type": "code",
      "source": [
        "#Use reverse to reverse order (this is permanent!)\n",
        "new_list.reverse()"
      ],
      "metadata": {
        "id": "Ya-rrkZn64-t"
      },
      "execution_count": null,
      "outputs": []
    },
    {
      "cell_type": "code",
      "source": [
        "new_list"
      ],
      "metadata": {
        "colab": {
          "base_uri": "https://localhost:8080/"
        },
        "id": "X947vMrx7HXG",
        "outputId": "6b56aa9b-bcba-4c97-d502-6be3ec168612"
      },
      "execution_count": null,
      "outputs": [
        {
          "output_type": "execute_result",
          "data": {
            "text/plain": [
              "['c', 'b', 'x', 'e', 'a']"
            ]
          },
          "metadata": {},
          "execution_count": 28
        }
      ]
    },
    {
      "cell_type": "code",
      "source": [
        "#Use sort to sort the list  ( in this case alphabetical order, but for numbers it will go ascending)\n",
        "new_list.sort()"
      ],
      "metadata": {
        "id": "381LDZcG7JdB"
      },
      "execution_count": null,
      "outputs": []
    },
    {
      "cell_type": "code",
      "source": [
        "new_list"
      ],
      "metadata": {
        "colab": {
          "base_uri": "https://localhost:8080/"
        },
        "id": "AnTwiuYK7hcT",
        "outputId": "895d8630-286f-4aee-c76c-7300a580f438"
      },
      "execution_count": null,
      "outputs": [
        {
          "output_type": "execute_result",
          "data": {
            "text/plain": [
              "['a', 'b', 'c', 'e', 'x']"
            ]
          },
          "metadata": {},
          "execution_count": 30
        }
      ]
    },
    {
      "cell_type": "code",
      "source": [
        "nlist = ['a','x','t',str(12),str(55)]\n",
        "nlist.sort()\n",
        "nlist"
      ],
      "metadata": {
        "colab": {
          "base_uri": "https://localhost:8080/"
        },
        "id": "zdm1G_WQ7i9K",
        "outputId": "61be1f6f-9522-4395-a009-1f0843ce5309"
      },
      "execution_count": null,
      "outputs": [
        {
          "output_type": "execute_result",
          "data": {
            "text/plain": [
              "['12', '55', 'a', 't', 'x']"
            ]
          },
          "metadata": {},
          "execution_count": 31
        }
      ]
    },
    {
      "cell_type": "markdown",
      "source": [
        "#Dictionaries"
      ],
      "metadata": {
        "id": "C_Dmv4Vb77vt"
      }
    },
    {
      "cell_type": "code",
      "source": [
        "#Make a dictionary with {} and : to signify a key and a value\n",
        "my_dict = {'key1':'value1', 'key2': 'value2'}"
      ],
      "metadata": {
        "id": "KiyTo4pl-HN8"
      },
      "execution_count": null,
      "outputs": []
    },
    {
      "cell_type": "code",
      "source": [
        "#Call values by their key\n",
        "my_dict['key2']\n"
      ],
      "metadata": {
        "colab": {
          "base_uri": "https://localhost:8080/",
          "height": 37
        },
        "id": "9JaopHmd-HJt",
        "outputId": "3788e461-a648-4eb4-9544-a63e29310a25"
      },
      "execution_count": null,
      "outputs": [
        {
          "output_type": "execute_result",
          "data": {
            "application/vnd.google.colaboratory.intrinsic+json": {
              "type": "string"
            },
            "text/plain": [
              "'value2'"
            ]
          },
          "metadata": {},
          "execution_count": 44
        }
      ]
    },
    {
      "cell_type": "code",
      "source": [
        "#Its important to note that dictionaries are very flexible i the data types they can hold.\n",
        "my_dict = {'key1':123, 'key2':[12,23,33], 'key3':['item0','item1', 'item2']}"
      ],
      "metadata": {
        "id": "njBIk1Hp-HG2"
      },
      "execution_count": null,
      "outputs": []
    },
    {
      "cell_type": "code",
      "source": [
        "#Lets call items fronm the dictionary\n",
        "my_dict['key3']"
      ],
      "metadata": {
        "colab": {
          "base_uri": "https://localhost:8080/"
        },
        "id": "tb9-WKvB-HD4",
        "outputId": "5b68e091-bc82-4068-e5d3-5ba22f783780"
      },
      "execution_count": null,
      "outputs": [
        {
          "output_type": "execute_result",
          "data": {
            "text/plain": [
              "['item0', 'item1', 'item2']"
            ]
          },
          "metadata": {},
          "execution_count": 46
        }
      ]
    },
    {
      "cell_type": "code",
      "source": [
        "#Can call an index on that value\n",
        "my_dict['key3'][0]"
      ],
      "metadata": {
        "colab": {
          "base_uri": "https://localhost:8080/",
          "height": 37
        },
        "id": "ANS1OirB-HAx",
        "outputId": "47e2a1d3-f74a-4b14-b5e3-152206676e3c"
      },
      "execution_count": null,
      "outputs": [
        {
          "output_type": "execute_result",
          "data": {
            "application/vnd.google.colaboratory.intrinsic+json": {
              "type": "string"
            },
            "text/plain": [
              "'item0'"
            ]
          },
          "metadata": {},
          "execution_count": 47
        }
      ]
    },
    {
      "cell_type": "code",
      "source": [
        "#Can then even call methods on that value\n",
        "my_dict['key3'][0].upper()"
      ],
      "metadata": {
        "colab": {
          "base_uri": "https://localhost:8080/",
          "height": 37
        },
        "id": "VaINHF_H-G98",
        "outputId": "00d5197a-73c9-4315-ece2-3a0f6a199050"
      },
      "execution_count": null,
      "outputs": [
        {
          "output_type": "execute_result",
          "data": {
            "application/vnd.google.colaboratory.intrinsic+json": {
              "type": "string"
            },
            "text/plain": [
              "'ITEM0'"
            ]
          },
          "metadata": {},
          "execution_count": 48
        }
      ]
    },
    {
      "cell_type": "code",
      "source": [
        "my_dict['key1']"
      ],
      "metadata": {
        "colab": {
          "base_uri": "https://localhost:8080/"
        },
        "id": "GBPvYLmC-G7S",
        "outputId": "6a474ecd-06fa-4a08-b2b1-f81274299548"
      },
      "execution_count": null,
      "outputs": [
        {
          "output_type": "execute_result",
          "data": {
            "text/plain": [
              "123"
            ]
          },
          "metadata": {},
          "execution_count": 49
        }
      ]
    },
    {
      "cell_type": "code",
      "source": [
        "#Substract 123 from the value\n",
        "my_dict['key1'] = my_dict['key1'] - 123"
      ],
      "metadata": {
        "id": "SHXcD-79-GzL"
      },
      "execution_count": null,
      "outputs": []
    },
    {
      "cell_type": "code",
      "source": [
        "# We can also create keys by assignment. For instance if we started off with an empty dictionary, we could continually add to it.\n",
        "# Create a new dictionary\n",
        "d = {}"
      ],
      "metadata": {
        "id": "AihNJ1gS_4m6"
      },
      "execution_count": null,
      "outputs": []
    },
    {
      "cell_type": "code",
      "source": [
        "# Create a new key through assignment\n",
        "d['animal'] = 'Dog'"
      ],
      "metadata": {
        "id": "263ZVel5_5v4"
      },
      "execution_count": null,
      "outputs": []
    },
    {
      "cell_type": "code",
      "source": [
        "# Can do this with any object\n",
        "d['answer'] = 42"
      ],
      "metadata": {
        "id": "u_qOXA-1__Gv"
      },
      "execution_count": null,
      "outputs": []
    },
    {
      "cell_type": "code",
      "source": [
        "d"
      ],
      "metadata": {
        "colab": {
          "base_uri": "https://localhost:8080/"
        },
        "id": "RyCkMYL6__Aw",
        "outputId": "5d079441-47bd-4743-b4b9-fc6802dbb5f8"
      },
      "execution_count": null,
      "outputs": [
        {
          "output_type": "execute_result",
          "data": {
            "text/plain": [
              "{'animal': 'Dog', 'answer': 42}"
            ]
          },
          "metadata": {},
          "execution_count": 54
        }
      ]
    },
    {
      "cell_type": "markdown",
      "source": [
        "#Dictionary Methods"
      ],
      "metadata": {
        "id": "4fIk8Z4k_-7h"
      }
    },
    {
      "cell_type": "code",
      "source": [
        "# Create a typical dictionary\n",
        "d = {'key1':1,'key2':2,'key3':3}"
      ],
      "metadata": {
        "id": "PUIAnf-lAQq_"
      },
      "execution_count": null,
      "outputs": []
    },
    {
      "cell_type": "code",
      "source": [
        ""
      ],
      "metadata": {
        "id": "E7LXzBxn_-14"
      },
      "execution_count": null,
      "outputs": []
    },
    {
      "cell_type": "code",
      "source": [
        "#Method to grab all values \n",
        "d.values"
      ],
      "metadata": {
        "colab": {
          "base_uri": "https://localhost:8080/"
        },
        "id": "7lYjp3P4_-wp",
        "outputId": "73fcff79-5a7c-4f8f-e7fd-1fee0b64ccec"
      },
      "execution_count": null,
      "outputs": [
        {
          "output_type": "execute_result",
          "data": {
            "text/plain": [
              "<function dict.values>"
            ]
          },
          "metadata": {},
          "execution_count": 55
        }
      ]
    },
    {
      "cell_type": "code",
      "source": [
        "# Method to return a list of all keys \n",
        "d.keys()"
      ],
      "metadata": {
        "colab": {
          "base_uri": "https://localhost:8080/"
        },
        "id": "AmBwXmNo_-rl",
        "outputId": "ce90b0af-02c0-4b50-a5b9-d45b1157fe10"
      },
      "execution_count": null,
      "outputs": [
        {
          "output_type": "execute_result",
          "data": {
            "text/plain": [
              "dict_keys(['animal', 'answer'])"
            ]
          },
          "metadata": {},
          "execution_count": 56
        }
      ]
    },
    {
      "cell_type": "code",
      "source": [
        "# Method to grab all values\n",
        "d.values()"
      ],
      "metadata": {
        "colab": {
          "base_uri": "https://localhost:8080/"
        },
        "id": "5VEH8dEF_-f0",
        "outputId": "c184b8e9-1df8-4a13-e1e4-b9049da4f079"
      },
      "execution_count": null,
      "outputs": [
        {
          "output_type": "execute_result",
          "data": {
            "text/plain": [
              "dict_values(['Dog', 42])"
            ]
          },
          "metadata": {},
          "execution_count": 57
        }
      ]
    },
    {
      "cell_type": "code",
      "source": [
        "# Method to return tuples of all items  (we'll learn about tuples soon)\n",
        "d.items()"
      ],
      "metadata": {
        "colab": {
          "base_uri": "https://localhost:8080/"
        },
        "id": "97lN7-gZOhtr",
        "outputId": "93b7b3ff-48ed-4ab4-b14e-cf136b5c4d9d"
      },
      "execution_count": null,
      "outputs": [
        {
          "output_type": "execute_result",
          "data": {
            "text/plain": [
              "dict_items([('animal', 'Dog'), ('answer', 42)])"
            ]
          },
          "metadata": {},
          "execution_count": 58
        }
      ]
    },
    {
      "cell_type": "markdown",
      "source": [
        "#Tuples\n",
        "In Python tuples are very similar to lists, however, unlike lists they are immutable meaning they can not be changed. You would use tuples to present things that shouldn't be changed, such as days of the week, or dates on a calendar."
      ],
      "metadata": {
        "id": "MkF8Pw5bOkrN"
      }
    },
    {
      "cell_type": "code",
      "source": [
        "#Can create a tuple with mixed types\n",
        "t =(1,2,3)"
      ],
      "metadata": {
        "id": "KWZ-urrAOorS"
      },
      "execution_count": null,
      "outputs": []
    },
    {
      "cell_type": "code",
      "source": [
        "#Check len just like a list \n",
        "len(t)"
      ],
      "metadata": {
        "colab": {
          "base_uri": "https://localhost:8080/"
        },
        "id": "rQ86FXN1OooH",
        "outputId": "ae4d1872-44ce-4c99-a5d0-e87e7ba8f778"
      },
      "execution_count": null,
      "outputs": [
        {
          "output_type": "execute_result",
          "data": {
            "text/plain": [
              "3"
            ]
          },
          "metadata": {},
          "execution_count": 61
        }
      ]
    },
    {
      "cell_type": "code",
      "source": [
        "# Can also mix object types\n",
        "t = ('one',2, 2)\n",
        "\n",
        "# Show\n",
        "t"
      ],
      "metadata": {
        "colab": {
          "base_uri": "https://localhost:8080/"
        },
        "id": "PmtmdUGrOolU",
        "outputId": "f0d7243c-0ff9-42cb-cb19-fea9bc8f5d8b"
      },
      "execution_count": null,
      "outputs": [
        {
          "output_type": "execute_result",
          "data": {
            "text/plain": [
              "('one', 2, 2)"
            ]
          },
          "metadata": {},
          "execution_count": 65
        }
      ]
    },
    {
      "cell_type": "code",
      "source": [
        "# Use indexing just like we did in lists\n",
        "t[0]"
      ],
      "metadata": {
        "colab": {
          "base_uri": "https://localhost:8080/",
          "height": 37
        },
        "id": "jnbcrym2OoiM",
        "outputId": "10ffe2d8-44b4-4c18-f63c-70618a7b5dc4"
      },
      "execution_count": null,
      "outputs": [
        {
          "output_type": "execute_result",
          "data": {
            "application/vnd.google.colaboratory.intrinsic+json": {
              "type": "string"
            },
            "text/plain": [
              "'one'"
            ]
          },
          "metadata": {},
          "execution_count": 63
        }
      ]
    },
    {
      "cell_type": "code",
      "source": [
        "#slicing just like a list\n",
        "t[-1]"
      ],
      "metadata": {
        "colab": {
          "base_uri": "https://localhost:8080/"
        },
        "id": "XoJEFG1XOodx",
        "outputId": "1de2c79a-aba1-4bb9-fe8c-03a1b5762cba"
      },
      "execution_count": null,
      "outputs": [
        {
          "output_type": "execute_result",
          "data": {
            "text/plain": [
              "2"
            ]
          },
          "metadata": {},
          "execution_count": 64
        }
      ]
    },
    {
      "cell_type": "code",
      "source": [
        "#Tuple Methods"
      ],
      "metadata": {
        "id": "C701vjvIPjgX"
      },
      "execution_count": null,
      "outputs": []
    },
    {
      "cell_type": "code",
      "source": [
        "t.index('one')"
      ],
      "metadata": {
        "colab": {
          "base_uri": "https://localhost:8080/"
        },
        "id": "nHa2qX2aPstt",
        "outputId": "7abf1f33-2058-4a42-b146-418bad9ba941"
      },
      "execution_count": null,
      "outputs": [
        {
          "output_type": "execute_result",
          "data": {
            "text/plain": [
              "0"
            ]
          },
          "metadata": {},
          "execution_count": 66
        }
      ]
    },
    {
      "cell_type": "code",
      "source": [
        "# Use .count to count the number of times a value appears\n",
        "t.count('one')"
      ],
      "metadata": {
        "colab": {
          "base_uri": "https://localhost:8080/"
        },
        "id": "ntQ9QRSwPw3u",
        "outputId": "2d0ada19-9645-4c6b-ca37-c3fcf2d15378"
      },
      "execution_count": null,
      "outputs": [
        {
          "output_type": "execute_result",
          "data": {
            "text/plain": [
              "1"
            ]
          },
          "metadata": {},
          "execution_count": 67
        }
      ]
    },
    {
      "cell_type": "code",
      "source": [
        "t.count(2)"
      ],
      "metadata": {
        "colab": {
          "base_uri": "https://localhost:8080/"
        },
        "id": "6pSTPIhQP3dz",
        "outputId": "ab67e324-5e52-4bab-d9f4-b1dd7406928c"
      },
      "execution_count": null,
      "outputs": [
        {
          "output_type": "execute_result",
          "data": {
            "text/plain": [
              "2"
            ]
          },
          "metadata": {},
          "execution_count": 68
        }
      ]
    },
    {
      "cell_type": "markdown",
      "source": [
        "#Immutability\n",
        "\n",
        "It can't be stressed enough that tuples are immutable.\n"
      ],
      "metadata": {
        "id": "OSO2EvU5QCOg"
      }
    },
    {
      "cell_type": "code",
      "source": [
        "#t[0] = 'change'\n",
        "\n"
      ],
      "metadata": {
        "id": "1N0LKow7QH3f"
      },
      "execution_count": null,
      "outputs": []
    },
    {
      "cell_type": "code",
      "source": [
        "# Because of this immutability, tuples can't grow. Once a tuple is made we can not add to it.\n",
        "#t.append('nope')"
      ],
      "metadata": {
        "id": "JVSHsBGlQjJc"
      },
      "execution_count": null,
      "outputs": []
    },
    {
      "cell_type": "code",
      "source": [
        ""
      ],
      "metadata": {
        "id": "NQB69p86QkNT"
      },
      "execution_count": null,
      "outputs": []
    }
  ]
}