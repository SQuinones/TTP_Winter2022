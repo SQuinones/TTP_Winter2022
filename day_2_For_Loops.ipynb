{
  "nbformat": 4,
  "nbformat_minor": 0,
  "metadata": {
    "colab": {
      "name": "day 2 For-Loops.ipynb",
      "provenance": [],
      "collapsed_sections": [],
      "authorship_tag": "ABX9TyOeO4dJHzGXfLSIO0MXvO1I",
      "include_colab_link": true
    },
    "kernelspec": {
      "name": "python3",
      "display_name": "Python 3"
    },
    "language_info": {
      "name": "python"
    }
  },
  "cells": [
    {
      "cell_type": "markdown",
      "metadata": {
        "id": "view-in-github",
        "colab_type": "text"
      },
      "source": [
        "<a href=\"https://colab.research.google.com/github/SQuinones/TTP_Winter2022/blob/main/day_2_For_Loops.ipynb\" target=\"_parent\"><img src=\"https://colab.research.google.com/assets/colab-badge.svg\" alt=\"Open In Colab\"/></a>"
      ]
    },
    {
      "cell_type": "markdown",
      "source": [
        "# For-Loops\n",
        "A for loop acts as an iterator in Python, it goes through items that are in a sequence or any other iterable item. Objects that we've learned about that we can iterate over include strings,lists,tuples, and even built in iterables for dictionaries, such as the keys or values.\n",
        "\n",
        "\n",
        "\n"
      ],
      "metadata": {
        "id": "R9QcH67jQxqe"
      }
    },
    {
      "cell_type": "code",
      "source": [
        "l = [1,2,3,4,5,6,7,8,9,10]"
      ],
      "metadata": {
        "id": "EouxxKMDRNMX"
      },
      "execution_count": null,
      "outputs": []
    },
    {
      "cell_type": "code",
      "source": [
        "for i in l: \n",
        "  print(i)"
      ],
      "metadata": {
        "colab": {
          "base_uri": "https://localhost:8080/"
        },
        "id": "kMhAGO4XRNJg",
        "outputId": "1e692874-effa-4fe1-ebc3-10415a88b0c9"
      },
      "execution_count": null,
      "outputs": [
        {
          "output_type": "stream",
          "name": "stdout",
          "text": [
            "1\n",
            "2\n",
            "3\n",
            "4\n",
            "5\n",
            "6\n",
            "7\n",
            "8\n",
            "9\n",
            "10\n"
          ]
        }
      ]
    },
    {
      "cell_type": "code",
      "source": [
        "# # Modulo\n",
        "# The modulo allows us to get the remainder in a division and uses the % symbol. \n",
        "17 % 5"
      ],
      "metadata": {
        "colab": {
          "base_uri": "https://localhost:8080/"
        },
        "id": "LyEWzPppRNGX",
        "outputId": "d9c88ba5-4c48-4371-9621-1fa3c1d46b04"
      },
      "execution_count": null,
      "outputs": [
        {
          "output_type": "execute_result",
          "data": {
            "text/plain": [
              "2"
            ]
          },
          "metadata": {},
          "execution_count": 3
        }
      ]
    },
    {
      "cell_type": "code",
      "source": [
        "# Let's print only the even number from a list \n",
        "\n",
        "mlist = [1,22,332,42,51,6,237,8,93,10,55,65,76,23,87,23,9,41,45,66]\n",
        "#In the previous line I created a list of numbers \n",
        "\n",
        "for number in mlist:\n",
        "#in this line I create for loop to iterate through my list of numbers\n",
        "\n",
        "  if number % 2 == 0:\n",
        "  #In this line I am using a conditional statement 'if-statement' to determine. if a number is even!\n",
        "    print(number)\n",
        "    #in this line I am printing the iterator after the conditional statement has been executed.\n",
        "\n",
        "  else:\n",
        "  #In this line I am creating a else statement that will execute when the if conditional is false\n",
        "    print('odd number: ')\n",
        "    #In this line I am printing the odd numbers "
      ],
      "metadata": {
        "colab": {
          "base_uri": "https://localhost:8080/"
        },
        "id": "7Fa2s65eRNC-",
        "outputId": "59c45ceb-2c21-4f66-9e77-75e88bd2296b"
      },
      "execution_count": null,
      "outputs": [
        {
          "output_type": "stream",
          "name": "stdout",
          "text": [
            "odd number: \n",
            "22\n",
            "332\n",
            "42\n",
            "odd number: \n",
            "6\n",
            "odd number: \n",
            "8\n",
            "odd number: \n",
            "10\n",
            "odd number: \n",
            "odd number: \n",
            "76\n",
            "odd number: \n",
            "odd number: \n",
            "odd number: \n",
            "odd number: \n",
            "odd number: \n",
            "odd number: \n",
            "66\n"
          ]
        }
      ]
    },
    {
      "cell_type": "code",
      "source": [
        "# Start sum at zero\n",
        "l = [1,2,3,4,5,6,7,8,9,10]\n",
        "list_sum = 0 \n",
        "\n",
        "for num in l:\n",
        "    list_sum = list_sum + num\n",
        "\n",
        "print(list_sum)"
      ],
      "metadata": {
        "colab": {
          "base_uri": "https://localhost:8080/"
        },
        "id": "rtNNZfbrRM_D",
        "outputId": "541552a3-167b-40c3-bbe7-e6a34457d056"
      },
      "execution_count": null,
      "outputs": [
        {
          "output_type": "stream",
          "name": "stdout",
          "text": [
            "55\n"
          ]
        }
      ]
    },
    {
      "cell_type": "code",
      "source": [
        "for letter in ' This is a string.':\n",
        "  print(letter)"
      ],
      "metadata": {
        "colab": {
          "base_uri": "https://localhost:8080/"
        },
        "id": "qwcTqXdrRMXv",
        "outputId": "edd20f77-33a0-4d50-a676-f0ca0b4b645d"
      },
      "execution_count": null,
      "outputs": [
        {
          "output_type": "stream",
          "name": "stdout",
          "text": [
            " \n",
            "T\n",
            "h\n",
            "i\n",
            "s\n",
            " \n",
            "i\n",
            "s\n",
            " \n",
            "a\n",
            " \n",
            "s\n",
            "t\n",
            "r\n",
            "i\n",
            "n\n",
            "g\n",
            ".\n"
          ]
        }
      ]
    },
    {
      "cell_type": "code",
      "source": [
        "l = [(2,4),(6,8),(10,12)]\n",
        "for tup in l:\n",
        "    print(tup)"
      ],
      "metadata": {
        "colab": {
          "base_uri": "https://localhost:8080/"
        },
        "id": "nX_2aqoNWYEK",
        "outputId": "36c57da8-f892-465a-d95b-1124a39c7050"
      },
      "execution_count": null,
      "outputs": [
        {
          "output_type": "stream",
          "name": "stdout",
          "text": [
            "(2, 4)\n",
            "(6, 8)\n",
            "(10, 12)\n"
          ]
        }
      ]
    },
    {
      "cell_type": "code",
      "source": [
        "# Now with unpacking!\n",
        "for (t1,t2) in l:\n",
        "    print(t1)"
      ],
      "metadata": {
        "colab": {
          "base_uri": "https://localhost:8080/"
        },
        "id": "SVPMwX-hWdVI",
        "outputId": "9fa34d25-460e-44f0-9cbd-95c50bc001c2"
      },
      "execution_count": null,
      "outputs": [
        {
          "output_type": "stream",
          "name": "stdout",
          "text": [
            "2\n",
            "6\n",
            "10\n"
          ]
        }
      ]
    },
    {
      "cell_type": "code",
      "source": [
        "d = {'k1':1,'k2':2,'k3':3}"
      ],
      "metadata": {
        "id": "7P6-z21VWfs0"
      },
      "execution_count": null,
      "outputs": []
    },
    {
      "cell_type": "code",
      "source": [
        "for item in d :\n",
        "  print(item)"
      ],
      "metadata": {
        "colab": {
          "base_uri": "https://localhost:8080/"
        },
        "id": "OGLNvtQkWpaY",
        "outputId": "8ec6cc65-f261-4921-d4f1-99fe52c59d7a"
      },
      "execution_count": null,
      "outputs": [
        {
          "output_type": "stream",
          "name": "stdout",
          "text": [
            "k1\n",
            "k2\n",
            "k3\n"
          ]
        }
      ]
    },
    {
      "cell_type": "code",
      "source": [
        "for k,v in d.items():\n",
        "# we use items() to print the items in the dictionary \n",
        "  print(k)\n",
        "  print(v)"
      ],
      "metadata": {
        "colab": {
          "base_uri": "https://localhost:8080/"
        },
        "id": "v8E7PmDGWuBV",
        "outputId": "a27be8e1-3e33-4e9a-b6a3-a05242666e99"
      },
      "execution_count": null,
      "outputs": [
        {
          "output_type": "stream",
          "name": "stdout",
          "text": [
            "k1\n",
            "1\n",
            "k2\n",
            "2\n",
            "k3\n",
            "3\n"
          ]
        }
      ]
    },
    {
      "cell_type": "code",
      "source": [
        ""
      ],
      "metadata": {
        "id": "jr8dpMZ-W2n4"
      },
      "execution_count": null,
      "outputs": []
    }
  ]
}